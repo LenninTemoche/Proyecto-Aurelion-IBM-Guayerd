{
 "cells": [
  {
   "cell_type": "markdown",
   "id": "0257864d",
   "metadata": {},
   "source": [
    "# Proyecto Aurelion: Análisis de Datos de Ventas\n",
    "\n",
    "Este notebook implementa el flujo de trabajo para el análisis de datos de ventas de la Tienda Aurelion, siguiendo el pseudocódigo y la documentación previamente definidos. El objetivo es consolidar, limpiar, analizar y visualizar los datos para extraer información de valor."
   ]
  },
  {
   "cell_type": "code",
   "execution_count": 1,
   "id": "146060e2",
   "metadata": {},
   "outputs": [
    {
     "name": "stdout",
     "output_type": "stream",
     "text": [
      "Librerías importadas correctamente.\n"
     ]
    }
   ],
   "source": [
    "## PASO 1: Configuración e Importación de Librerías\n",
    "\n",
    "# Importamos las librerías necesarias para el análisis.\n",
    "# pandas: para la manipulación y análisis de datos en tablas (DataFrames).\n",
    "# matplotlib.pyplot y seaborn: para la creación de gráficos y visualizaciones.\n",
    "\n",
    "import pandas as pd\n",
    "import matplotlib.pyplot as plt\n",
    "import seaborn as sns\n",
    "\n",
    "print(\"Librerías importadas correctamente.\")"
   ]
  },
  {
   "cell_type": "markdown",
   "id": "fdc0d07e",
   "metadata": {},
   "source": [
    "## PASO 2: Carga de Datos\n",
    "\n",
    "Se carga la data de archivos proporcionados, respetando la estructura definida."
   ]
  },
  {
   "cell_type": "code",
   "execution_count": 39,
   "id": "aff0d3da",
   "metadata": {},
   "outputs": [
    {
     "name": "stdout",
     "output_type": "stream",
     "text": [
      "DataFrames de BD cargados con éxito.\n"
     ]
    },
    {
     "data": {
      "text/html": [
       "<div>\n",
       "<style scoped>\n",
       "    .dataframe tbody tr th:only-of-type {\n",
       "        vertical-align: middle;\n",
       "    }\n",
       "\n",
       "    .dataframe tbody tr th {\n",
       "        vertical-align: top;\n",
       "    }\n",
       "\n",
       "    .dataframe thead th {\n",
       "        text-align: right;\n",
       "    }\n",
       "</style>\n",
       "<table border=\"1\" class=\"dataframe\">\n",
       "  <thead>\n",
       "    <tr style=\"text-align: right;\">\n",
       "      <th></th>\n",
       "      <th>id_venta</th>\n",
       "      <th>fecha</th>\n",
       "      <th>id_cliente</th>\n",
       "      <th>nombre_cliente</th>\n",
       "      <th>email</th>\n",
       "      <th>medio_pago</th>\n",
       "    </tr>\n",
       "  </thead>\n",
       "  <tbody>\n",
       "    <tr>\n",
       "      <th>0</th>\n",
       "      <td>1</td>\n",
       "      <td>2024-06-19</td>\n",
       "      <td>62</td>\n",
       "      <td>Guadalupe Romero</td>\n",
       "      <td>guadalupe.romero@mail.com</td>\n",
       "      <td>tarjeta</td>\n",
       "    </tr>\n",
       "    <tr>\n",
       "      <th>1</th>\n",
       "      <td>2</td>\n",
       "      <td>2024-03-17</td>\n",
       "      <td>49</td>\n",
       "      <td>Olivia Gomez</td>\n",
       "      <td>olivia.gomez@mail.com</td>\n",
       "      <td>qr</td>\n",
       "    </tr>\n",
       "  </tbody>\n",
       "</table>\n",
       "</div>"
      ],
      "text/plain": [
       "   id_venta      fecha  id_cliente    nombre_cliente  \\\n",
       "0         1 2024-06-19          62  Guadalupe Romero   \n",
       "1         2 2024-03-17          49      Olivia Gomez   \n",
       "\n",
       "                       email medio_pago  \n",
       "0  guadalupe.romero@mail.com    tarjeta  \n",
       "1      olivia.gomez@mail.com         qr  "
      ]
     },
     "execution_count": 39,
     "metadata": {},
     "output_type": "execute_result"
    }
   ],
   "source": [
    "import pandas as pd\n",
    "\n",
    "df_clientes = pd.read_excel(\"clientes.xlsx\")\n",
    "df_productos = pd.read_excel(\"productos.xlsx\")\n",
    "df_ventas = pd.read_excel(\"ventas.xlsx\")\n",
    "df_detalle_ventas = pd.read_excel(\"detalle_ventas.xlsx\")\n",
    "\n",
    "print(\"DataFrames de BD cargados con éxito.\")\n",
    "#df_clientes.head(10)\n",
    "#df_productos.head(2)\n",
    "df_ventas.head(2)\n",
    "#df_detalle_ventas.head(2)\n"
   ]
  },
  {
   "cell_type": "markdown",
   "id": "610877d8",
   "metadata": {},
   "source": [
    "## PASO 3: Exploración y Limpieza de Datos\n",
    "\n",
    "En esta fase, revisamos la estructura de cada tabla, verificamos tipos de datos, buscamos valores nulos o duplicados y corregimos cualquier inconsistencia."
   ]
  },
  {
   "cell_type": "code",
   "execution_count": 40,
   "id": "2ff21345",
   "metadata": {},
   "outputs": [
    {
     "name": "stdout",
     "output_type": "stream",
     "text": [
      "--- Información de la tabla: Clientes ---\n",
      "<class 'pandas.core.frame.DataFrame'>\n",
      "RangeIndex: 100 entries, 0 to 99\n",
      "Data columns (total 5 columns):\n",
      " #   Column          Non-Null Count  Dtype         \n",
      "---  ------          --------------  -----         \n",
      " 0   id_cliente      100 non-null    int64         \n",
      " 1   nombre_cliente  100 non-null    object        \n",
      " 2   email           100 non-null    object        \n",
      " 3   ciudad          100 non-null    object        \n",
      " 4   fecha_alta      100 non-null    datetime64[ns]\n",
      "dtypes: datetime64[ns](1), int64(1), object(3)\n",
      "memory usage: 4.0+ KB\n",
      "\n",
      "\n",
      "--- Información de la tabla: Productos ---\n",
      "<class 'pandas.core.frame.DataFrame'>\n",
      "RangeIndex: 100 entries, 0 to 99\n",
      "Data columns (total 4 columns):\n",
      " #   Column           Non-Null Count  Dtype \n",
      "---  ------           --------------  ----- \n",
      " 0   id_producto      100 non-null    int64 \n",
      " 1   nombre_producto  100 non-null    object\n",
      " 2   categoria        100 non-null    object\n",
      " 3   precio_unitario  100 non-null    int64 \n",
      "dtypes: int64(2), object(2)\n",
      "memory usage: 3.3+ KB\n",
      "\n",
      "\n",
      "--- Información de la tabla: Ventas ---\n",
      "<class 'pandas.core.frame.DataFrame'>\n",
      "RangeIndex: 120 entries, 0 to 119\n",
      "Data columns (total 6 columns):\n",
      " #   Column          Non-Null Count  Dtype         \n",
      "---  ------          --------------  -----         \n",
      " 0   id_venta        120 non-null    int64         \n",
      " 1   fecha           120 non-null    datetime64[ns]\n",
      " 2   id_cliente      120 non-null    int64         \n",
      " 3   nombre_cliente  120 non-null    object        \n",
      " 4   email           120 non-null    object        \n",
      " 5   medio_pago      120 non-null    object        \n",
      "dtypes: datetime64[ns](1), int64(2), object(3)\n",
      "memory usage: 5.8+ KB\n",
      "\n",
      "\n",
      "--- Información de la tabla: Detalle Venta ---\n",
      "<class 'pandas.core.frame.DataFrame'>\n",
      "RangeIndex: 343 entries, 0 to 342\n",
      "Data columns (total 6 columns):\n",
      " #   Column           Non-Null Count  Dtype \n",
      "---  ------           --------------  ----- \n",
      " 0   id_venta         343 non-null    int64 \n",
      " 1   id_producto      343 non-null    int64 \n",
      " 2   nombre_producto  343 non-null    object\n",
      " 3   cantidad         343 non-null    int64 \n",
      " 4   precio_unitario  343 non-null    int64 \n",
      " 5   importe          343 non-null    int64 \n",
      "dtypes: int64(5), object(1)\n",
      "memory usage: 16.2+ KB\n",
      "\n",
      "\n"
     ]
    }
   ],
   "source": [
    "# 1. Exploración inicial\n",
    "datasets = {'Clientes': df_clientes, 'Productos': df_productos, 'Ventas': df_ventas, 'Detalle Venta': df_detalle_ventas}\n",
    "\n",
    "for name, df in datasets.items():\n",
    "    print(f\"--- Información de la tabla: {name} ---\")\n",
    "    df.info()\n",
    "    print(\"\\n\")\n",
    "\n"
   ]
  },
  {
   "cell_type": "code",
   "execution_count": 41,
   "id": "9e07fdf0",
   "metadata": {},
   "outputs": [
    {
     "name": "stdout",
     "output_type": "stream",
     "text": [
      "Index(['id_venta', 'fecha', 'id_cliente', 'nombre_cliente', 'email',\n",
      "       'medio_pago'],\n",
      "      dtype='object')\n"
     ]
    }
   ],
   "source": [
    "print(df_ventas.columns)"
   ]
  },
  {
   "cell_type": "code",
   "execution_count": 42,
   "id": "d9f8ea82",
   "metadata": {},
   "outputs": [
    {
     "name": "stdout",
     "output_type": "stream",
     "text": [
      "Columnas redundantes eliminadas.\n",
      "<class 'pandas.core.frame.DataFrame'>\n",
      "RangeIndex: 120 entries, 0 to 119\n",
      "Data columns (total 4 columns):\n",
      " #   Column      Non-Null Count  Dtype         \n",
      "---  ------      --------------  -----         \n",
      " 0   id_venta    120 non-null    int64         \n",
      " 1   fecha       120 non-null    datetime64[ns]\n",
      " 2   id_cliente  120 non-null    int64         \n",
      " 3   medio_pago  120 non-null    object        \n",
      "dtypes: datetime64[ns](1), int64(2), object(1)\n",
      "memory usage: 3.9+ KB\n",
      "<class 'pandas.core.frame.DataFrame'>\n",
      "RangeIndex: 343 entries, 0 to 342\n",
      "Data columns (total 5 columns):\n",
      " #   Column           Non-Null Count  Dtype\n",
      "---  ------           --------------  -----\n",
      " 0   id_venta         343 non-null    int64\n",
      " 1   id_producto      343 non-null    int64\n",
      " 2   cantidad         343 non-null    int64\n",
      " 3   precio_unitario  343 non-null    int64\n",
      " 4   importe          343 non-null    int64\n",
      "dtypes: int64(5)\n",
      "memory usage: 13.5 KB\n"
     ]
    }
   ],
   "source": [
    "# 2. Limpieza de columnas redundantes\n",
    "# Las tablas VENTAS y DETALLE_VENTAS contienen nombres y emails que ya están en CLIENTES y PRODUCTOS.\n",
    "# Es una buena práctica eliminarlas para evitar inconsistencias y trabajar solo con los IDs.\n",
    "df_ventas.drop(columns=['nombre_cliente', 'email'], inplace=True)\n",
    "df_detalle_ventas.drop(columns=['nombre_producto'], inplace=True)\n",
    "print(\"Columnas redundantes eliminadas.\")\n",
    "df_ventas.info()\n",
    "df_detalle_ventas.info()\n",
    "\n",
    "\n"
   ]
  },
  {
   "cell_type": "code",
   "execution_count": 43,
   "id": "f7432d71",
   "metadata": {},
   "outputs": [
    {
     "name": "stdout",
     "output_type": "stream",
     "text": [
      "\n",
      "Conteo de valores nulos por tabla:\n",
      "Clientes: 0 nulos\n",
      "Productos: 0 nulos\n",
      "Ventas: 0 nulos\n",
      "Detalle Venta: 0 nulos\n"
     ]
    }
   ],
   "source": [
    "# 3. Verificación de nulos y duplicados (en nuestros datos de ejemplo no habrá)\n",
    "print(\"\\nConteo de valores nulos por tabla:\")\n",
    "for name, df in datasets.items():\n",
    "    print(f\"{name}: {df.isnull().sum().sum()} nulos\")\n"
   ]
  },
  {
   "cell_type": "code",
   "execution_count": 50,
   "id": "8f264e94",
   "metadata": {},
   "outputs": [
    {
     "name": "stdout",
     "output_type": "stream",
     "text": [
      "\n",
      "Tipos de datos de las columnas de fecha verificados.\n"
     ]
    }
   ],
   "source": [
    "# 4. Conversión de tipos de datos \n",
    "df_clientes['fecha_alta'] = pd.to_datetime(df_clientes['fecha_alta'])\n",
    "df_ventas['fecha'] = pd.to_datetime(df_ventas['fecha'])\n",
    "print(\"\\nTipos de datos de las columnas de fecha verificados.\")"
   ]
  },
  {
   "cell_type": "code",
   "execution_count": 58,
   "id": "c7b0e086",
   "metadata": {},
   "outputs": [
    {
     "name": "stdout",
     "output_type": "stream",
     "text": [
      "Columnas en df_ventas: Index(['id_venta', 'fecha', 'id_cliente', 'medio_pago'], dtype='object')\n"
     ]
    }
   ],
   "source": [
    "print(\"Columnas en df_ventas:\", df_ventas.columns)\n"
   ]
  },
  {
   "cell_type": "markdown",
   "id": "aaa2a5fd",
   "metadata": {},
   "source": [
    "## PASO 4: Unión de Tablas (Merge / Join)\n",
    "\n",
    "Unificamos todas las tablas en un único DataFrame maestro para facilitar el análisis cruzado. La secuencia de unión es clave para construir la vista 360°."
   ]
  },
  {
   "cell_type": "code",
   "execution_count": 62,
   "id": "ae193b97",
   "metadata": {},
   "outputs": [
    {
     "name": "stdout",
     "output_type": "stream",
     "text": [
      "Tabla maestra creada. Contiene toda la información consolidada.\n",
      "<class 'pandas.core.frame.DataFrame'>\n",
      "RangeIndex: 343 entries, 0 to 342\n",
      "Data columns (total 15 columns):\n",
      " #   Column             Non-Null Count  Dtype         \n",
      "---  ------             --------------  -----         \n",
      " 0   id_venta           343 non-null    int64         \n",
      " 1   fecha              343 non-null    datetime64[ns]\n",
      " 2   id_cliente         343 non-null    int64         \n",
      " 3   medio_pago         343 non-null    object        \n",
      " 4   id_producto        343 non-null    int64         \n",
      " 5   cantidad           343 non-null    int64         \n",
      " 6   precio_unitario_x  343 non-null    int64         \n",
      " 7   importe            343 non-null    int64         \n",
      " 8   nombre_producto    343 non-null    object        \n",
      " 9   categoria          343 non-null    object        \n",
      " 10  precio_unitario_y  343 non-null    int64         \n",
      " 11  nombre_cliente     343 non-null    object        \n",
      " 12  email              343 non-null    object        \n",
      " 13  ciudad             343 non-null    object        \n",
      " 14  fecha_alta         343 non-null    datetime64[ns]\n",
      "dtypes: datetime64[ns](2), int64(7), object(6)\n",
      "memory usage: 40.3+ KB\n"
     ]
    },
    {
     "data": {
      "text/html": [
       "<div>\n",
       "<style scoped>\n",
       "    .dataframe tbody tr th:only-of-type {\n",
       "        vertical-align: middle;\n",
       "    }\n",
       "\n",
       "    .dataframe tbody tr th {\n",
       "        vertical-align: top;\n",
       "    }\n",
       "\n",
       "    .dataframe thead th {\n",
       "        text-align: right;\n",
       "    }\n",
       "</style>\n",
       "<table border=\"1\" class=\"dataframe\">\n",
       "  <thead>\n",
       "    <tr style=\"text-align: right;\">\n",
       "      <th></th>\n",
       "      <th>id_venta</th>\n",
       "      <th>fecha</th>\n",
       "      <th>id_cliente</th>\n",
       "      <th>medio_pago</th>\n",
       "      <th>id_producto</th>\n",
       "      <th>cantidad</th>\n",
       "      <th>precio_unitario_x</th>\n",
       "      <th>importe</th>\n",
       "      <th>nombre_producto</th>\n",
       "      <th>categoria</th>\n",
       "      <th>precio_unitario_y</th>\n",
       "      <th>nombre_cliente</th>\n",
       "      <th>email</th>\n",
       "      <th>ciudad</th>\n",
       "      <th>fecha_alta</th>\n",
       "    </tr>\n",
       "  </thead>\n",
       "  <tbody>\n",
       "    <tr>\n",
       "      <th>0</th>\n",
       "      <td>1</td>\n",
       "      <td>2024-06-19</td>\n",
       "      <td>62</td>\n",
       "      <td>tarjeta</td>\n",
       "      <td>90</td>\n",
       "      <td>1</td>\n",
       "      <td>2902</td>\n",
       "      <td>2902</td>\n",
       "      <td>Toallas Húmedas x50</td>\n",
       "      <td>Limpieza</td>\n",
       "      <td>2902</td>\n",
       "      <td>Guadalupe Romero</td>\n",
       "      <td>guadalupe.romero@mail.com</td>\n",
       "      <td>Carlos Paz</td>\n",
       "      <td>2023-03-03</td>\n",
       "    </tr>\n",
       "    <tr>\n",
       "      <th>1</th>\n",
       "      <td>2</td>\n",
       "      <td>2024-03-17</td>\n",
       "      <td>49</td>\n",
       "      <td>qr</td>\n",
       "      <td>82</td>\n",
       "      <td>5</td>\n",
       "      <td>2394</td>\n",
       "      <td>11970</td>\n",
       "      <td>Aceitunas Negras 200g</td>\n",
       "      <td>Limpieza</td>\n",
       "      <td>2394</td>\n",
       "      <td>Olivia Gomez</td>\n",
       "      <td>olivia.gomez@mail.com</td>\n",
       "      <td>Rio Cuarto</td>\n",
       "      <td>2023-02-18</td>\n",
       "    </tr>\n",
       "    <tr>\n",
       "      <th>2</th>\n",
       "      <td>2</td>\n",
       "      <td>2024-03-17</td>\n",
       "      <td>49</td>\n",
       "      <td>qr</td>\n",
       "      <td>39</td>\n",
       "      <td>5</td>\n",
       "      <td>469</td>\n",
       "      <td>2345</td>\n",
       "      <td>Helado Vainilla 1L</td>\n",
       "      <td>Alimentos</td>\n",
       "      <td>469</td>\n",
       "      <td>Olivia Gomez</td>\n",
       "      <td>olivia.gomez@mail.com</td>\n",
       "      <td>Rio Cuarto</td>\n",
       "      <td>2023-02-18</td>\n",
       "    </tr>\n",
       "    <tr>\n",
       "      <th>3</th>\n",
       "      <td>2</td>\n",
       "      <td>2024-03-17</td>\n",
       "      <td>49</td>\n",
       "      <td>qr</td>\n",
       "      <td>70</td>\n",
       "      <td>2</td>\n",
       "      <td>4061</td>\n",
       "      <td>8122</td>\n",
       "      <td>Fernet 750ml</td>\n",
       "      <td>Limpieza</td>\n",
       "      <td>4061</td>\n",
       "      <td>Olivia Gomez</td>\n",
       "      <td>olivia.gomez@mail.com</td>\n",
       "      <td>Rio Cuarto</td>\n",
       "      <td>2023-02-18</td>\n",
       "    </tr>\n",
       "    <tr>\n",
       "      <th>4</th>\n",
       "      <td>2</td>\n",
       "      <td>2024-03-17</td>\n",
       "      <td>49</td>\n",
       "      <td>qr</td>\n",
       "      <td>22</td>\n",
       "      <td>1</td>\n",
       "      <td>2069</td>\n",
       "      <td>2069</td>\n",
       "      <td>Medialunas de Manteca</td>\n",
       "      <td>Limpieza</td>\n",
       "      <td>2069</td>\n",
       "      <td>Olivia Gomez</td>\n",
       "      <td>olivia.gomez@mail.com</td>\n",
       "      <td>Rio Cuarto</td>\n",
       "      <td>2023-02-18</td>\n",
       "    </tr>\n",
       "  </tbody>\n",
       "</table>\n",
       "</div>"
      ],
      "text/plain": [
       "   id_venta      fecha  id_cliente medio_pago  id_producto  cantidad  \\\n",
       "0         1 2024-06-19          62    tarjeta           90         1   \n",
       "1         2 2024-03-17          49         qr           82         5   \n",
       "2         2 2024-03-17          49         qr           39         5   \n",
       "3         2 2024-03-17          49         qr           70         2   \n",
       "4         2 2024-03-17          49         qr           22         1   \n",
       "\n",
       "   precio_unitario_x  importe        nombre_producto  categoria  \\\n",
       "0               2902     2902    Toallas Húmedas x50   Limpieza   \n",
       "1               2394    11970  Aceitunas Negras 200g   Limpieza   \n",
       "2                469     2345     Helado Vainilla 1L  Alimentos   \n",
       "3               4061     8122           Fernet 750ml   Limpieza   \n",
       "4               2069     2069  Medialunas de Manteca   Limpieza   \n",
       "\n",
       "   precio_unitario_y    nombre_cliente                      email      ciudad  \\\n",
       "0               2902  Guadalupe Romero  guadalupe.romero@mail.com  Carlos Paz   \n",
       "1               2394      Olivia Gomez      olivia.gomez@mail.com  Rio Cuarto   \n",
       "2                469      Olivia Gomez      olivia.gomez@mail.com  Rio Cuarto   \n",
       "3               4061      Olivia Gomez      olivia.gomez@mail.com  Rio Cuarto   \n",
       "4               2069      Olivia Gomez      olivia.gomez@mail.com  Rio Cuarto   \n",
       "\n",
       "  fecha_alta  \n",
       "0 2023-03-03  \n",
       "1 2023-02-18  \n",
       "2 2023-02-18  \n",
       "3 2023-02-18  \n",
       "4 2023-02-18  "
      ]
     },
     "execution_count": 62,
     "metadata": {},
     "output_type": "execute_result"
    }
   ],
   "source": [
    "# 1. Unir Detalle de Venta con Productos para obtener la categoría y el precio maestro\n",
    "df_ventas_detalle_prod = pd.merge(df_detalle_ventas, df_productos, left_on='id_producto', right_on='id_producto')\n",
    "\n",
    "# 2. Unir el resultado con la tabla de Ventas para obtener la fecha y el cliente de cada ítem vendido\n",
    "df_completo = pd.merge(df_ventas, df_ventas_detalle_prod, on='id_venta')\n",
    "\n",
    "# 3. Finalmente, unir con la tabla de Clientes para obtener los datos demográficos del comprador\n",
    "# Ojo: los nombres de las columnas ID son distintos ('id_cliente' vs 'id_Cli')\n",
    "df_master = pd.merge(df_completo, df_clientes, left_on='id_cliente', right_on='id_cliente')\n",
    "\n",
    "print(\"Tabla maestra creada. Contiene toda la información consolidada.\")\n",
    "df_master.info()\n",
    "df_master.head()"
   ]
  },
  {
   "cell_type": "markdown",
   "id": "34ee1418",
   "metadata": {},
   "source": [
    "## PASO 5: Ingeniería de Características (Feature Engineering)\n",
    "\n",
    "Creamos nuevas columnas a partir de las existentes para enriquecer el análisis. En este caso, extraeremos componentes de la fecha de venta."
   ]
  },
  {
   "cell_type": "code",
   "execution_count": 63,
   "id": "7b56fbd2",
   "metadata": {},
   "outputs": [
    {
     "name": "stdout",
     "output_type": "stream",
     "text": [
      "Nuevas columnas de fecha creadas.\n"
     ]
    },
    {
     "data": {
      "text/html": [
       "<div>\n",
       "<style scoped>\n",
       "    .dataframe tbody tr th:only-of-type {\n",
       "        vertical-align: middle;\n",
       "    }\n",
       "\n",
       "    .dataframe tbody tr th {\n",
       "        vertical-align: top;\n",
       "    }\n",
       "\n",
       "    .dataframe thead th {\n",
       "        text-align: right;\n",
       "    }\n",
       "</style>\n",
       "<table border=\"1\" class=\"dataframe\">\n",
       "  <thead>\n",
       "    <tr style=\"text-align: right;\">\n",
       "      <th></th>\n",
       "      <th>fecha</th>\n",
       "      <th>AnioVenta</th>\n",
       "      <th>MesVenta</th>\n",
       "      <th>DiaSemanaVenta</th>\n",
       "    </tr>\n",
       "  </thead>\n",
       "  <tbody>\n",
       "    <tr>\n",
       "      <th>0</th>\n",
       "      <td>2024-06-19</td>\n",
       "      <td>2024</td>\n",
       "      <td>6</td>\n",
       "      <td>Wednesday</td>\n",
       "    </tr>\n",
       "    <tr>\n",
       "      <th>1</th>\n",
       "      <td>2024-03-17</td>\n",
       "      <td>2024</td>\n",
       "      <td>3</td>\n",
       "      <td>Sunday</td>\n",
       "    </tr>\n",
       "    <tr>\n",
       "      <th>2</th>\n",
       "      <td>2024-03-17</td>\n",
       "      <td>2024</td>\n",
       "      <td>3</td>\n",
       "      <td>Sunday</td>\n",
       "    </tr>\n",
       "    <tr>\n",
       "      <th>3</th>\n",
       "      <td>2024-03-17</td>\n",
       "      <td>2024</td>\n",
       "      <td>3</td>\n",
       "      <td>Sunday</td>\n",
       "    </tr>\n",
       "    <tr>\n",
       "      <th>4</th>\n",
       "      <td>2024-03-17</td>\n",
       "      <td>2024</td>\n",
       "      <td>3</td>\n",
       "      <td>Sunday</td>\n",
       "    </tr>\n",
       "  </tbody>\n",
       "</table>\n",
       "</div>"
      ],
      "text/plain": [
       "       fecha  AnioVenta  MesVenta DiaSemanaVenta\n",
       "0 2024-06-19       2024         6      Wednesday\n",
       "1 2024-03-17       2024         3         Sunday\n",
       "2 2024-03-17       2024         3         Sunday\n",
       "3 2024-03-17       2024         3         Sunday\n",
       "4 2024-03-17       2024         3         Sunday"
      ]
     },
     "execution_count": 63,
     "metadata": {},
     "output_type": "execute_result"
    }
   ],
   "source": [
    "# Extraer año, mes y día de la semana de la fecha de la venta\n",
    "df_master['AnioVenta'] = df_master['fecha'].dt.year\n",
    "df_master['MesVenta'] = df_master['fecha'].dt.month\n",
    "df_master['DiaSemanaVenta'] = df_master['fecha'].dt.day_name()\n",
    "\n",
    "print(\"Nuevas columnas de fecha creadas.\")\n",
    "df_master[['fecha', 'AnioVenta', 'MesVenta', 'DiaSemanaVenta']].head()"
   ]
  },
  {
   "cell_type": "markdown",
   "id": "ef6ff0dc",
   "metadata": {},
   "source": [
    "## PASO 6: Análisis de Datos (Responder Preguntas de Negocio)\n",
    "\n",
    "Con la tabla maestra lista, procedemos a realizar los cálculos y agregaciones para responder a las preguntas clave."
   ]
  },
  {
   "cell_type": "code",
   "execution_count": 68,
   "id": "2a15b196",
   "metadata": {},
   "outputs": [
    {
     "name": "stdout",
     "output_type": "stream",
     "text": [
      "--- Top 5 Productos por Cantidad Vendida ---\n",
      "nombre_producto\n",
      "Salsa de Tomate 500g          27\n",
      "Queso Rallado 150g            26\n",
      "Hamburguesas Congeladas x4    24\n",
      "Vino Blanco 750ml             22\n",
      "Aceitunas Verdes 200g         22\n",
      "Name: cantidad, dtype: int64\n",
      "\n",
      "\n",
      "--- Top 5 Categorías por Ingresos Totales ---\n",
      "categoria\n",
      "Limpieza     1436281\n",
      "Alimentos    1215136\n",
      "Name: importe, dtype: int64\n",
      "\n",
      "\n",
      "--- Top 5 Clientes por Gasto Total ---\n",
      "nombre_cliente\n",
      "Agustina Flores    132158\n",
      "Bruno Castro       118790\n",
      "Bruno Diaz          90701\n",
      "Diego Diaz          90522\n",
      "Karina Castro       81830\n",
      "Name: importe, dtype: int64\n",
      "\n",
      "\n",
      "--- Ventas Totales por Ciudad ---\n",
      "ciudad\n",
      "Rio Cuarto     792203\n",
      "Alta Gracia    481504\n",
      "Cordoba        481482\n",
      "Carlos Paz     353852\n",
      "Villa Maria    313350\n",
      "Mendiolaza     229026\n",
      "Name: importe, dtype: int64\n"
     ]
    }
   ],
   "source": [
    "### Pregunta 1: ¿Cuáles son los 5 productos más vendidos en cantidad?\n",
    "top_productos_cantidad = df_master.groupby('nombre_producto')['cantidad'].sum().sort_values(ascending=False).head(5)\n",
    "print(\"--- Top 5 Productos por Cantidad Vendida ---\")\n",
    "print(top_productos_cantidad)\n",
    "print(\"\\n\")\n",
    "\n",
    "### Pregunta 2: ¿Cuáles son las 5 categorías que generan más ingresos?\n",
    "ventas_por_categoria = df_master.groupby('categoria')['importe'].sum().sort_values(ascending=False).head(5)\n",
    "print(\"--- Top 5 Categorías por Ingresos Totales ---\")\n",
    "print(ventas_por_categoria)\n",
    "print(\"\\n\")\n",
    "\n",
    "### Pregunta 3: ¿Quiénes son los 5 clientes que más han gastado?\n",
    "top_clientes_gasto = df_master.groupby('nombre_cliente')['importe'].sum().sort_values(ascending=False).head(5)\n",
    "print(\"--- Top 5 Clientes por Gasto Total ---\")\n",
    "print(top_clientes_gasto)\n",
    "print(\"\\n\")\n",
    "\n",
    "### Pregunta 4: ¿Cómo se distribuyen las ventas por ciudad?\n",
    "ventas_por_ciudad = df_master.groupby('ciudad')['importe'].sum().sort_values(ascending=False)\n",
    "print(\"--- Ventas Totales por Ciudad ---\")\n",
    "print(ventas_por_ciudad)"
   ]
  },
  {
   "cell_type": "markdown",
   "id": "2b3ea9d6",
   "metadata": {},
   "source": [
    "## PASO 7: Visualización de Resultados\n",
    "\n",
    "Un gráfico comunica los hallazgos de manera mucho más efectiva. Creamos visualizaciones para los resultados obtenidos en el paso anterior.(posterior en P BI)"
   ]
  },
  {
   "cell_type": "code",
   "execution_count": 69,
   "id": "1600ff2d",
   "metadata": {},
   "outputs": [
    {
     "name": "stderr",
     "output_type": "stream",
     "text": [
      "C:\\Users\\KEILY\\AppData\\Local\\Temp\\ipykernel_12124\\3553987225.py:7: FutureWarning: \n",
      "\n",
      "Passing `palette` without assigning `hue` is deprecated and will be removed in v0.14.0. Assign the `x` variable to `hue` and set `legend=False` for the same effect.\n",
      "\n",
      "  sns.barplot(x=ventas_por_categoria.index, y=ventas_por_categoria.values, palette='viridis')\n",
      "C:\\Users\\KEILY\\AppData\\Local\\Temp\\ipykernel_12124\\3553987225.py:15: FutureWarning: \n",
      "\n",
      "Passing `palette` without assigning `hue` is deprecated and will be removed in v0.14.0. Assign the `x` variable to `hue` and set `legend=False` for the same effect.\n",
      "\n",
      "  sns.barplot(x=top_clientes_gasto.index, y=top_clientes_gasto.values, palette='plasma')\n",
      "C:\\Users\\KEILY\\AppData\\Local\\Temp\\ipykernel_12124\\3553987225.py:23: FutureWarning: \n",
      "\n",
      "Passing `palette` without assigning `hue` is deprecated and will be removed in v0.14.0. Assign the `x` variable to `hue` and set `legend=False` for the same effect.\n",
      "\n",
      "  sns.barplot(x=ventas_por_ciudad.index, y=ventas_por_ciudad.values, palette='magma')\n"
     ]
    },
    {
     "data": {
      "image/png": "[encoded data removed]",
      "text/plain": [
       "<Figure size 1200x800 with 3 Axes>"
      ]
     },
     "metadata": {},
     "output_type": "display_data"
    }
   ],
   "source": [
    "# Configuración general para los gráficos\n",
    "sns.set(style=\"whitegrid\")\n",
    "plt.figure(figsize=(12, 8))\n",
    "\n",
    "# Gráfico 1: Top 5 Categorías por Ingresos\n",
    "plt.subplot(2, 2, 1) # (filas, columnas, índice)\n",
    "sns.barplot(x=ventas_por_categoria.index, y=ventas_por_categoria.values, palette='viridis')\n",
    "plt.title('Top 5 Categorías por Ingresos')\n",
    "plt.xlabel('Categoría')\n",
    "plt.ylabel('Ingresos Totales')\n",
    "plt.xticks(rotation=45)\n",
    "\n",
    "# Gráfico 2: Top 5 Clientes por Gasto\n",
    "plt.subplot(2, 2, 2)\n",
    "sns.barplot(x=top_clientes_gasto.index, y=top_clientes_gasto.values, palette='plasma')\n",
    "plt.title('Top 5 Clientes por Gasto Total')\n",
    "plt.xlabel('Cliente')\n",
    "plt.ylabel('Gasto Total')\n",
    "plt.xticks(rotation=45)\n",
    "\n",
    "# Gráfico 3: Ventas por Ciudad\n",
    "plt.subplot(2, 2, 3)\n",
    "sns.barplot(x=ventas_por_ciudad.index, y=ventas_por_ciudad.values, palette='magma')\n",
    "plt.title('Distribución de Ventas por Ciudad')\n",
    "plt.xlabel('Ciudad')\n",
    "plt.ylabel('Ingresos Totales')\n",
    "\n",
    "# Ajustar el layout para que no se superpongan los títulos\n",
    "plt.tight_layout()\n",
    "plt.show()"
   ]
  }
 ],
 "metadata": {
  "kernelspec": {
   "display_name": "Python 3",
   "language": "python",
   "name": "python3"
  },
  "language_info": {
   "codemirror_mode": {
    "name": "ipython",
    "version": 3
   },
   "file_extension": ".py",
   "mimetype": "text/x-python",
   "name": "python",
   "nbconvert_exporter": "python",
   "pygments_lexer": "ipython3",
   "version": "3.13.5"
  }
 },
 "nbformat": 4,
 "nbformat_minor": 5
}
